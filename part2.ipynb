{
  "cells": [
    {
      "cell_type": "code",
      "execution_count": 3,
      "metadata": {
        "id": "ID78Fqkcpxc9"
      },
      "outputs": [],
      "source": [
        "import json\n",
        "import numpy as np\n",
        "from sklearn.model_selection import train_test_split\n",
        "import tensorflow.keras as keras\n",
        "\n",
        "import matplotlib.pyplot as plt\n",
        "import random\n",
        "\n",
        "import librosa\n",
        "import math"
      ]
    },
    {
      "cell_type": "code",
      "execution_count": 4,
      "metadata": {
        "id": "h4fRJzNtp45z"
      },
      "outputs": [],
      "source": [
        "# path to json\n",
        "DATA_PATH = \"data_10.json\""
      ]
    },
    {
      "cell_type": "code",
      "execution_count": 5,
      "metadata": {
        "id": "059z2uzvqW-Y"
      },
      "outputs": [],
      "source": [
        "def load_data(data_path):\n",
        "\n",
        "    with open(data_path, \"r\") as f:\n",
        "        data = json.load(f)\n",
        "\n",
        "    # convert lists to numpy arrays\n",
        "    X = np.array(data[\"mfcc\"])\n",
        "    y = np.array(data[\"labels\"])\n",
        "\n",
        "    print(\"Data succesfully loaded!\")\n",
        "\n",
        "    return  X, y"
      ]
    },
    {
      "cell_type": "code",
      "execution_count": 6,
      "metadata": {
        "colab": {
          "base_uri": "https://localhost:8080/"
        },
        "id": "lP_oCaTxqnqM",
        "outputId": "29a492b6-ca6e-4e17-d932-6d049129773c"
      },
      "outputs": [
        {
          "name": "stdout",
          "output_type": "stream",
          "text": [
            "Data succesfully loaded!\n"
          ]
        }
      ],
      "source": [
        "# load data\n",
        "X, y = load_data(DATA_PATH)"
      ]
    },
    {
      "cell_type": "code",
      "execution_count": 7,
      "metadata": {
        "id": "LGbKepVKtlaO"
      },
      "outputs": [],
      "source": [
        "# create train/test split\n",
        "X_train, X_test, y_train, y_test = train_test_split(X, y, test_size=0.3)"
      ]
    },
    {
      "cell_type": "markdown",
      "metadata": {
        "id": "vL6wMRpUluUr"
      },
      "source": [
        "### ANN"
      ]
    },
    {
      "cell_type": "code",
      "execution_count": 8,
      "metadata": {
        "id": "DWYJ9rNYyngy"
      },
      "outputs": [],
      "source": [
        "# build network topology\n",
        "model = keras.Sequential([\n",
        "\n",
        "    # input layer\n",
        "    keras.layers.Flatten(input_shape=(X.shape[1], X.shape[2])),\n",
        "\n",
        "    # 1st dense layer\n",
        "    keras.layers.Dense(512, activation='relu'),\n",
        "\n",
        "    # 2nd dense layer\n",
        "    keras.layers.Dense(256, activation='relu'),\n",
        "\n",
        "    # 3rd dense layer\n",
        "    keras.layers.Dense(64, activation='relu'),\n",
        "\n",
        "    # output layer\n",
        "    keras.layers.Dense(10, activation='softmax')\n",
        "])"
      ]
    },
    {
      "cell_type": "code",
      "execution_count": 9,
      "metadata": {
        "id": "_vAj93EpzNcW"
      },
      "outputs": [],
      "source": [
        "# compile model\n",
        "optimiser = keras.optimizers.Adam(learning_rate=0.0001)\n",
        "model.compile(optimizer=optimiser,\n",
        "              loss='sparse_categorical_crossentropy',\n",
        "              metrics=['accuracy'])"
      ]
    },
    {
      "cell_type": "code",
      "execution_count": 10,
      "metadata": {
        "id": "UVC-Y4O5zRWt"
      },
      "outputs": [
        {
          "name": "stdout",
          "output_type": "stream",
          "text": [
            "Model: \"sequential\"\n",
            "_________________________________________________________________\n",
            " Layer (type)                Output Shape              Param #   \n",
            "=================================================================\n",
            " flatten (Flatten)           (None, 1690)              0         \n",
            "                                                                 \n",
            " dense (Dense)               (None, 512)               865792    \n",
            "                                                                 \n",
            " dense_1 (Dense)             (None, 256)               131328    \n",
            "                                                                 \n",
            " dense_2 (Dense)             (None, 64)                16448     \n",
            "                                                                 \n",
            " dense_3 (Dense)             (None, 10)                650       \n",
            "                                                                 \n",
            "=================================================================\n",
            "Total params: 1014218 (3.87 MB)\n",
            "Trainable params: 1014218 (3.87 MB)\n",
            "Non-trainable params: 0 (0.00 Byte)\n",
            "_________________________________________________________________\n"
          ]
        }
      ],
      "source": [
        "model.summary()"
      ]
    },
    {
      "cell_type": "markdown",
      "metadata": {},
      "source": [
        "ANN TRAIN"
      ]
    },
    {
      "cell_type": "code",
      "execution_count": 11,
      "metadata": {
        "id": "A3fzdo4BzUzU"
      },
      "outputs": [
        {
          "name": "stdout",
          "output_type": "stream",
          "text": [
            "Epoch 1/100\n",
            "219/219 [==============================] - 3s 11ms/step - loss: 9.4302 - accuracy: 0.3205 - val_loss: 5.0516 - val_accuracy: 0.3294\n",
            "Epoch 2/100\n",
            "219/219 [==============================] - 2s 10ms/step - loss: 2.9699 - accuracy: 0.3845 - val_loss: 2.3260 - val_accuracy: 0.3128\n",
            "Epoch 3/100\n",
            "219/219 [==============================] - 2s 10ms/step - loss: 1.8445 - accuracy: 0.3867 - val_loss: 2.0820 - val_accuracy: 0.3762\n",
            "Epoch 4/100\n",
            "219/219 [==============================] - 2s 10ms/step - loss: 1.5885 - accuracy: 0.4595 - val_loss: 2.0151 - val_accuracy: 0.4065\n",
            "Epoch 5/100\n",
            "219/219 [==============================] - 2s 10ms/step - loss: 1.4297 - accuracy: 0.5124 - val_loss: 2.0518 - val_accuracy: 0.4129\n",
            "Epoch 6/100\n",
            "219/219 [==============================] - 2s 10ms/step - loss: 1.2900 - accuracy: 0.5485 - val_loss: 1.9528 - val_accuracy: 0.4536\n",
            "Epoch 7/100\n",
            "219/219 [==============================] - 2s 10ms/step - loss: 1.1970 - accuracy: 0.5814 - val_loss: 1.9010 - val_accuracy: 0.4299\n",
            "Epoch 8/100\n",
            "219/219 [==============================] - 2s 10ms/step - loss: 1.1186 - accuracy: 0.6026 - val_loss: 1.9439 - val_accuracy: 0.4650\n",
            "Epoch 9/100\n",
            "219/219 [==============================] - 2s 10ms/step - loss: 1.0249 - accuracy: 0.6401 - val_loss: 2.0128 - val_accuracy: 0.4619\n",
            "Epoch 10/100\n",
            "219/219 [==============================] - 2s 10ms/step - loss: 0.9591 - accuracy: 0.6641 - val_loss: 1.9542 - val_accuracy: 0.4840\n",
            "Epoch 11/100\n",
            "219/219 [==============================] - 2s 10ms/step - loss: 0.9294 - accuracy: 0.6700 - val_loss: 1.9445 - val_accuracy: 0.4990\n",
            "Epoch 12/100\n",
            "219/219 [==============================] - 2s 10ms/step - loss: 0.8355 - accuracy: 0.7009 - val_loss: 1.9152 - val_accuracy: 0.4940\n",
            "Epoch 13/100\n",
            "219/219 [==============================] - 2s 10ms/step - loss: 0.8006 - accuracy: 0.7094 - val_loss: 1.8739 - val_accuracy: 0.5107\n",
            "Epoch 14/100\n",
            "219/219 [==============================] - 2s 10ms/step - loss: 0.7372 - accuracy: 0.7366 - val_loss: 1.9697 - val_accuracy: 0.5154\n",
            "Epoch 15/100\n",
            "219/219 [==============================] - 2s 10ms/step - loss: 0.6892 - accuracy: 0.7581 - val_loss: 1.9878 - val_accuracy: 0.4977\n",
            "Epoch 16/100\n",
            "219/219 [==============================] - 2s 10ms/step - loss: 0.6309 - accuracy: 0.7715 - val_loss: 2.0523 - val_accuracy: 0.5244\n",
            "Epoch 17/100\n",
            "219/219 [==============================] - 2s 10ms/step - loss: 0.6302 - accuracy: 0.7751 - val_loss: 2.0695 - val_accuracy: 0.5197\n",
            "Epoch 18/100\n",
            "219/219 [==============================] - 2s 10ms/step - loss: 0.5663 - accuracy: 0.8006 - val_loss: 2.1334 - val_accuracy: 0.5120\n",
            "Epoch 19/100\n",
            "219/219 [==============================] - 2s 10ms/step - loss: 0.5511 - accuracy: 0.8089 - val_loss: 2.0690 - val_accuracy: 0.5254\n",
            "Epoch 20/100\n",
            "219/219 [==============================] - 2s 10ms/step - loss: 0.5432 - accuracy: 0.8113 - val_loss: 2.0484 - val_accuracy: 0.5427\n",
            "Epoch 21/100\n",
            "219/219 [==============================] - 2s 10ms/step - loss: 0.4588 - accuracy: 0.8388 - val_loss: 2.0772 - val_accuracy: 0.5524\n",
            "Epoch 22/100\n",
            "219/219 [==============================] - 2s 10ms/step - loss: 0.4411 - accuracy: 0.8474 - val_loss: 2.0734 - val_accuracy: 0.5507\n",
            "Epoch 23/100\n",
            "219/219 [==============================] - 2s 10ms/step - loss: 0.3859 - accuracy: 0.8674 - val_loss: 2.2606 - val_accuracy: 0.5451\n",
            "Epoch 24/100\n",
            "219/219 [==============================] - 2s 10ms/step - loss: 0.4438 - accuracy: 0.8485 - val_loss: 2.1292 - val_accuracy: 0.5474\n",
            "Epoch 25/100\n",
            "219/219 [==============================] - 2s 10ms/step - loss: 0.3838 - accuracy: 0.8680 - val_loss: 2.2142 - val_accuracy: 0.5541\n",
            "Epoch 26/100\n",
            "219/219 [==============================] - 2s 10ms/step - loss: 0.3313 - accuracy: 0.8838 - val_loss: 2.2811 - val_accuracy: 0.5391\n",
            "Epoch 27/100\n",
            "219/219 [==============================] - 2s 10ms/step - loss: 0.3108 - accuracy: 0.8897 - val_loss: 2.3995 - val_accuracy: 0.5497\n",
            "Epoch 28/100\n",
            "219/219 [==============================] - 2s 10ms/step - loss: 0.2893 - accuracy: 0.8977 - val_loss: 2.4443 - val_accuracy: 0.5454\n",
            "Epoch 29/100\n",
            "219/219 [==============================] - 2s 10ms/step - loss: 0.3437 - accuracy: 0.8793 - val_loss: 2.4820 - val_accuracy: 0.5604\n",
            "Epoch 30/100\n",
            "219/219 [==============================] - 2s 10ms/step - loss: 0.2593 - accuracy: 0.9084 - val_loss: 2.4970 - val_accuracy: 0.5527\n",
            "Epoch 31/100\n",
            "219/219 [==============================] - 2s 10ms/step - loss: 0.2404 - accuracy: 0.9165 - val_loss: 2.3059 - val_accuracy: 0.5801\n",
            "Epoch 32/100\n",
            "219/219 [==============================] - 2s 10ms/step - loss: 0.2451 - accuracy: 0.9156 - val_loss: 2.4682 - val_accuracy: 0.5591\n",
            "Epoch 33/100\n",
            "219/219 [==============================] - 2s 10ms/step - loss: 0.2327 - accuracy: 0.9207 - val_loss: 2.3645 - val_accuracy: 0.5731\n",
            "Epoch 34/100\n",
            "219/219 [==============================] - 2s 10ms/step - loss: 0.2684 - accuracy: 0.9083 - val_loss: 2.6865 - val_accuracy: 0.5431\n",
            "Epoch 35/100\n",
            "219/219 [==============================] - 2s 10ms/step - loss: 0.1896 - accuracy: 0.9361 - val_loss: 2.5282 - val_accuracy: 0.5821\n",
            "Epoch 36/100\n",
            "219/219 [==============================] - 2s 10ms/step - loss: 0.1994 - accuracy: 0.9323 - val_loss: 2.5569 - val_accuracy: 0.5631\n",
            "Epoch 37/100\n",
            "219/219 [==============================] - 2s 10ms/step - loss: 0.1626 - accuracy: 0.9443 - val_loss: 2.4760 - val_accuracy: 0.5778\n",
            "Epoch 38/100\n",
            "219/219 [==============================] - 2s 10ms/step - loss: 0.1796 - accuracy: 0.9348 - val_loss: 2.5259 - val_accuracy: 0.5811\n",
            "Epoch 39/100\n",
            "219/219 [==============================] - 2s 10ms/step - loss: 0.1219 - accuracy: 0.9595 - val_loss: 2.6394 - val_accuracy: 0.5708\n",
            "Epoch 40/100\n",
            "219/219 [==============================] - 2s 10ms/step - loss: 0.1451 - accuracy: 0.9482 - val_loss: 2.6201 - val_accuracy: 0.5864\n",
            "Epoch 41/100\n",
            "219/219 [==============================] - 2s 10ms/step - loss: 0.1779 - accuracy: 0.9362 - val_loss: 2.6298 - val_accuracy: 0.5858\n",
            "Epoch 42/100\n",
            "219/219 [==============================] - 2s 10ms/step - loss: 0.1872 - accuracy: 0.9386 - val_loss: 2.7743 - val_accuracy: 0.5634\n",
            "Epoch 43/100\n",
            "219/219 [==============================] - 2s 10ms/step - loss: 0.2345 - accuracy: 0.9235 - val_loss: 2.5998 - val_accuracy: 0.5617\n",
            "Epoch 44/100\n",
            "219/219 [==============================] - 2s 10ms/step - loss: 0.1487 - accuracy: 0.9489 - val_loss: 2.9661 - val_accuracy: 0.5781\n",
            "Epoch 45/100\n",
            "219/219 [==============================] - 2s 10ms/step - loss: 0.0988 - accuracy: 0.9674 - val_loss: 2.8386 - val_accuracy: 0.5754\n",
            "Epoch 46/100\n",
            "219/219 [==============================] - 2s 10ms/step - loss: 0.1335 - accuracy: 0.9557 - val_loss: 2.6365 - val_accuracy: 0.5814\n",
            "Epoch 47/100\n",
            "219/219 [==============================] - 2s 10ms/step - loss: 0.1088 - accuracy: 0.9681 - val_loss: 2.7470 - val_accuracy: 0.5734\n",
            "Epoch 48/100\n",
            "219/219 [==============================] - 2s 10ms/step - loss: 0.0760 - accuracy: 0.9750 - val_loss: 2.7751 - val_accuracy: 0.6041\n",
            "Epoch 49/100\n",
            "219/219 [==============================] - 2s 10ms/step - loss: 0.1120 - accuracy: 0.9618 - val_loss: 2.9049 - val_accuracy: 0.5751\n",
            "Epoch 50/100\n",
            "219/219 [==============================] - 2s 10ms/step - loss: 0.1845 - accuracy: 0.9416 - val_loss: 3.0634 - val_accuracy: 0.5601\n",
            "Epoch 51/100\n",
            "219/219 [==============================] - 2s 10ms/step - loss: 0.1363 - accuracy: 0.9531 - val_loss: 2.9274 - val_accuracy: 0.5921\n",
            "Epoch 52/100\n",
            "219/219 [==============================] - 2s 10ms/step - loss: 0.0552 - accuracy: 0.9835 - val_loss: 2.9960 - val_accuracy: 0.5931\n",
            "Epoch 53/100\n",
            "219/219 [==============================] - 2s 10ms/step - loss: 0.1154 - accuracy: 0.9615 - val_loss: 2.8145 - val_accuracy: 0.5734\n",
            "Epoch 54/100\n",
            "219/219 [==============================] - 2s 10ms/step - loss: 0.1156 - accuracy: 0.9611 - val_loss: 2.9917 - val_accuracy: 0.5748\n",
            "Epoch 55/100\n",
            "219/219 [==============================] - 2s 10ms/step - loss: 0.1259 - accuracy: 0.9588 - val_loss: 2.8692 - val_accuracy: 0.6008\n",
            "Epoch 56/100\n",
            "219/219 [==============================] - 2s 10ms/step - loss: 0.0781 - accuracy: 0.9765 - val_loss: 2.8595 - val_accuracy: 0.5928\n",
            "Epoch 57/100\n",
            "219/219 [==============================] - 2s 10ms/step - loss: 0.1456 - accuracy: 0.9514 - val_loss: 2.9966 - val_accuracy: 0.5911\n",
            "Epoch 58/100\n",
            "219/219 [==============================] - 2s 10ms/step - loss: 0.0597 - accuracy: 0.9813 - val_loss: 3.0156 - val_accuracy: 0.6005\n",
            "Epoch 59/100\n",
            "219/219 [==============================] - 2s 10ms/step - loss: 0.0473 - accuracy: 0.9837 - val_loss: 2.8742 - val_accuracy: 0.5991\n",
            "Epoch 60/100\n",
            "219/219 [==============================] - 2s 10ms/step - loss: 0.0532 - accuracy: 0.9841 - val_loss: 2.9251 - val_accuracy: 0.5905\n",
            "Epoch 61/100\n",
            "219/219 [==============================] - 2s 10ms/step - loss: 0.1506 - accuracy: 0.9516 - val_loss: 3.0305 - val_accuracy: 0.5891\n",
            "Epoch 62/100\n",
            "219/219 [==============================] - 2s 10ms/step - loss: 0.0930 - accuracy: 0.9674 - val_loss: 2.9542 - val_accuracy: 0.5995\n",
            "Epoch 63/100\n",
            "219/219 [==============================] - 2s 10ms/step - loss: 0.1189 - accuracy: 0.9615 - val_loss: 3.0961 - val_accuracy: 0.5921\n",
            "Epoch 64/100\n",
            "219/219 [==============================] - 2s 10ms/step - loss: 0.1051 - accuracy: 0.9664 - val_loss: 3.0232 - val_accuracy: 0.5878\n",
            "Epoch 65/100\n",
            "219/219 [==============================] - 2s 10ms/step - loss: 0.0655 - accuracy: 0.9794 - val_loss: 3.1940 - val_accuracy: 0.5925\n",
            "Epoch 66/100\n",
            "219/219 [==============================] - 2s 10ms/step - loss: 0.0672 - accuracy: 0.9777 - val_loss: 3.2797 - val_accuracy: 0.5915\n",
            "Epoch 67/100\n",
            "219/219 [==============================] - 2s 10ms/step - loss: 0.1208 - accuracy: 0.9614 - val_loss: 3.1391 - val_accuracy: 0.5838\n",
            "Epoch 68/100\n",
            "219/219 [==============================] - 2s 10ms/step - loss: 0.0672 - accuracy: 0.9781 - val_loss: 2.9872 - val_accuracy: 0.5958\n",
            "Epoch 69/100\n",
            "219/219 [==============================] - 2s 10ms/step - loss: 0.0902 - accuracy: 0.9708 - val_loss: 3.3157 - val_accuracy: 0.5741\n",
            "Epoch 70/100\n",
            "219/219 [==============================] - 2s 10ms/step - loss: 0.0810 - accuracy: 0.9722 - val_loss: 3.3119 - val_accuracy: 0.5931\n",
            "Epoch 71/100\n",
            "219/219 [==============================] - 2s 10ms/step - loss: 0.0502 - accuracy: 0.9831 - val_loss: 3.0104 - val_accuracy: 0.6075\n",
            "Epoch 72/100\n",
            "219/219 [==============================] - 2s 10ms/step - loss: 0.0290 - accuracy: 0.9921 - val_loss: 3.1273 - val_accuracy: 0.6048\n",
            "Epoch 73/100\n",
            "219/219 [==============================] - 2s 10ms/step - loss: 0.0349 - accuracy: 0.9906 - val_loss: 3.2173 - val_accuracy: 0.6155\n",
            "Epoch 74/100\n",
            "219/219 [==============================] - 2s 10ms/step - loss: 0.0215 - accuracy: 0.9936 - val_loss: 3.1088 - val_accuracy: 0.6218\n",
            "Epoch 75/100\n",
            "219/219 [==============================] - 2s 10ms/step - loss: 0.0113 - accuracy: 0.9973 - val_loss: 3.2045 - val_accuracy: 0.6252\n",
            "Epoch 76/100\n",
            "219/219 [==============================] - 2s 10ms/step - loss: 0.0052 - accuracy: 0.9994 - val_loss: 3.2612 - val_accuracy: 0.6258\n",
            "Epoch 77/100\n",
            "219/219 [==============================] - 2s 10ms/step - loss: 0.1211 - accuracy: 0.9655 - val_loss: 3.3506 - val_accuracy: 0.5614\n",
            "Epoch 78/100\n",
            "219/219 [==============================] - 2s 10ms/step - loss: 0.4398 - accuracy: 0.8768 - val_loss: 3.1109 - val_accuracy: 0.5764\n",
            "Epoch 79/100\n",
            "219/219 [==============================] - 2s 10ms/step - loss: 0.1350 - accuracy: 0.9574 - val_loss: 3.2470 - val_accuracy: 0.5995\n",
            "Epoch 80/100\n",
            "219/219 [==============================] - 2s 10ms/step - loss: 0.0532 - accuracy: 0.9831 - val_loss: 3.1927 - val_accuracy: 0.6098\n",
            "Epoch 81/100\n",
            "219/219 [==============================] - 2s 10ms/step - loss: 0.0222 - accuracy: 0.9938 - val_loss: 3.2422 - val_accuracy: 0.6051\n",
            "Epoch 82/100\n",
            "219/219 [==============================] - 2s 10ms/step - loss: 0.0127 - accuracy: 0.9969 - val_loss: 3.3168 - val_accuracy: 0.6128\n",
            "Epoch 83/100\n",
            "219/219 [==============================] - 2s 10ms/step - loss: 0.0183 - accuracy: 0.9950 - val_loss: 3.2183 - val_accuracy: 0.6168\n",
            "Epoch 84/100\n",
            "219/219 [==============================] - 2s 10ms/step - loss: 0.0055 - accuracy: 0.9989 - val_loss: 3.2649 - val_accuracy: 0.6198\n",
            "Epoch 85/100\n",
            "219/219 [==============================] - 2s 10ms/step - loss: 0.0075 - accuracy: 0.9977 - val_loss: 3.3046 - val_accuracy: 0.6088\n",
            "Epoch 86/100\n",
            "219/219 [==============================] - 2s 10ms/step - loss: 0.3350 - accuracy: 0.9093 - val_loss: 3.1097 - val_accuracy: 0.5781\n",
            "Epoch 87/100\n",
            "219/219 [==============================] - 2s 10ms/step - loss: 0.1530 - accuracy: 0.9509 - val_loss: 3.3168 - val_accuracy: 0.5858\n",
            "Epoch 88/100\n",
            "219/219 [==============================] - 2s 10ms/step - loss: 0.0459 - accuracy: 0.9876 - val_loss: 3.2833 - val_accuracy: 0.6088\n",
            "Epoch 89/100\n",
            "219/219 [==============================] - 2s 10ms/step - loss: 0.0391 - accuracy: 0.9888 - val_loss: 3.3882 - val_accuracy: 0.6028\n",
            "Epoch 90/100\n",
            "219/219 [==============================] - 2s 10ms/step - loss: 0.0119 - accuracy: 0.9969 - val_loss: 3.3422 - val_accuracy: 0.6071\n",
            "Epoch 91/100\n",
            "219/219 [==============================] - 2s 10ms/step - loss: 0.0224 - accuracy: 0.9930 - val_loss: 3.4361 - val_accuracy: 0.6021\n",
            "Epoch 92/100\n",
            "219/219 [==============================] - 2s 10ms/step - loss: 0.0561 - accuracy: 0.9825 - val_loss: 3.1105 - val_accuracy: 0.6021\n",
            "Epoch 93/100\n",
            "219/219 [==============================] - 2s 10ms/step - loss: 0.0976 - accuracy: 0.9685 - val_loss: 3.6298 - val_accuracy: 0.5594\n",
            "Epoch 94/100\n",
            "219/219 [==============================] - 2s 10ms/step - loss: 0.1016 - accuracy: 0.9670 - val_loss: 3.4025 - val_accuracy: 0.6005\n",
            "Epoch 95/100\n",
            "219/219 [==============================] - 2s 10ms/step - loss: 0.0392 - accuracy: 0.9860 - val_loss: 3.3764 - val_accuracy: 0.6015\n",
            "Epoch 96/100\n",
            "219/219 [==============================] - 2s 10ms/step - loss: 0.0237 - accuracy: 0.9937 - val_loss: 3.4558 - val_accuracy: 0.6148\n",
            "Epoch 97/100\n",
            "219/219 [==============================] - 2s 10ms/step - loss: 0.0297 - accuracy: 0.9918 - val_loss: 3.3671 - val_accuracy: 0.6038\n",
            "Epoch 98/100\n",
            "219/219 [==============================] - 2s 10ms/step - loss: 0.0360 - accuracy: 0.9883 - val_loss: 3.5123 - val_accuracy: 0.6068\n",
            "Epoch 99/100\n",
            "219/219 [==============================] - 2s 10ms/step - loss: 0.0822 - accuracy: 0.9740 - val_loss: 3.7585 - val_accuracy: 0.5804\n",
            "Epoch 100/100\n",
            "219/219 [==============================] - 2s 10ms/step - loss: 0.1115 - accuracy: 0.9664 - val_loss: 3.6211 - val_accuracy: 0.5821\n"
          ]
        }
      ],
      "source": [
        "# train model\n",
        "history = model.fit(X_train, y_train, validation_data=(X_test, y_test), batch_size=32, epochs=100)"
      ]
    },
    {
      "cell_type": "code",
      "execution_count": 12,
      "metadata": {
        "id": "PmXSb9gTzZU_"
      },
      "outputs": [],
      "source": [
        "def plot_history(history):\n",
        "\n",
        "    fig, axs = plt.subplots(2)\n",
        "\n",
        "    # create accuracy sublpot\n",
        "    axs[0].plot(history.history[\"accuracy\"], label=\"train accuracy\")\n",
        "    axs[0].plot(history.history[\"val_accuracy\"], label=\"test accuracy\")\n",
        "    axs[0].set_ylabel(\"Accuracy\")\n",
        "    axs[0].legend(loc=\"lower right\")\n",
        "    axs[0].set_title(\"Accuracy eval\")\n",
        "\n",
        "    # create error sublpot\n",
        "    axs[1].plot(history.history[\"loss\"], label=\"train error\")\n",
        "    axs[1].plot(history.history[\"val_loss\"], label=\"test error\")\n",
        "    axs[1].set_ylabel(\"Error\")\n",
        "    axs[1].set_xlabel(\"Epoch\")\n",
        "    axs[1].legend(loc=\"upper right\")\n",
        "    axs[1].set_title(\"Error eval\")\n",
        "    \n",
        "    plt.show()"
      ]
    },
    {
      "cell_type": "code",
      "execution_count": 13,
      "metadata": {
        "id": "ZoBk4Ovr7IaI"
      },
      "outputs": [
        {
          "data": {
            "image/png": "[encoded data removed]",
            "text/plain": [
              "<Figure size 640x480 with 2 Axes>"
            ]
          },
          "metadata": {},
          "output_type": "display_data"
        }
      ],
      "source": [
        "# plot accuracy and error as a function of the epochs\n",
        "plot_history(history)"
      ]
    },
    {
      "cell_type": "markdown",
      "metadata": {
        "id": "M1zNljTkl05G"
      },
      "source": [
        "### Managing Overfitting"
      ]
    },
    {
      "cell_type": "code",
      "execution_count": 14,
      "metadata": {
        "id": "drhWRfDF7Ru5"
      },
      "outputs": [],
      "source": [
        "# build network topology\n",
        "model_regularized = keras.Sequential([\n",
        "\n",
        "    # input layer\n",
        "    keras.layers.Flatten(input_shape=(X.shape[1], X.shape[2])),\n",
        "\n",
        "    # 1st dense layer\n",
        "    keras.layers.Dense(512, activation='relu', kernel_regularizer=keras.regularizers.l2(0.001)),\n",
        "    keras.layers.Dropout(0.3),\n",
        "\n",
        "    # 2nd dense layer\n",
        "    keras.layers.Dense(256, activation='relu', kernel_regularizer=keras.regularizers.l2(0.001)),\n",
        "    keras.layers.Dropout(0.3),\n",
        "\n",
        "    # 3rd dense layer\n",
        "    keras.layers.Dense(64, activation='relu', kernel_regularizer=keras.regularizers.l2(0.001)),\n",
        "    keras.layers.Dropout(0.3),\n",
        "\n",
        "    # output layer\n",
        "    keras.layers.Dense(10, activation='softmax')\n",
        "])"
      ]
    },
    {
      "cell_type": "code",
      "execution_count": 15,
      "metadata": {
        "id": "9izNLSrG8j-9"
      },
      "outputs": [],
      "source": [
        "# compile model\n",
        "optimiser = keras.optimizers.Adam(learning_rate=0.0001)\n",
        "model_regularized.compile(optimizer=optimiser,\n",
        "              loss='sparse_categorical_crossentropy',\n",
        "              metrics=['accuracy'])"
      ]
    },
    {
      "cell_type": "code",
      "execution_count": 16,
      "metadata": {
        "id": "Uzjpg8Rk8uFr"
      },
      "outputs": [
        {
          "name": "stdout",
          "output_type": "stream",
          "text": [
            "Epoch 1/100\n",
            "219/219 [==============================] - 4s 12ms/step - loss: 23.5816 - accuracy: 0.1488 - val_loss: 3.5586 - val_accuracy: 0.1318\n",
            "Epoch 2/100\n",
            "219/219 [==============================] - 2s 11ms/step - loss: 6.4931 - accuracy: 0.1408 - val_loss: 3.4925 - val_accuracy: 0.1148\n",
            "Epoch 3/100\n",
            "219/219 [==============================] - 2s 11ms/step - loss: 4.5719 - accuracy: 0.1289 - val_loss: 3.5057 - val_accuracy: 0.1041\n",
            "Epoch 4/100\n",
            "219/219 [==============================] - 2s 11ms/step - loss: 3.9812 - accuracy: 0.1266 - val_loss: 3.5056 - val_accuracy: 0.1038\n",
            "Epoch 5/100\n",
            "219/219 [==============================] - 2s 11ms/step - loss: 3.7758 - accuracy: 0.1268 - val_loss: 3.4842 - val_accuracy: 0.1121\n",
            "Epoch 6/100\n",
            "219/219 [==============================] - 2s 11ms/step - loss: 3.6902 - accuracy: 0.1309 - val_loss: 3.4678 - val_accuracy: 0.1185\n",
            "Epoch 7/100\n",
            "219/219 [==============================] - 3s 11ms/step - loss: 3.6407 - accuracy: 0.1236 - val_loss: 3.4660 - val_accuracy: 0.1135\n",
            "Epoch 8/100\n",
            "219/219 [==============================] - 2s 11ms/step - loss: 3.5608 - accuracy: 0.1279 - val_loss: 3.4574 - val_accuracy: 0.1172\n",
            "Epoch 9/100\n",
            "219/219 [==============================] - 2s 11ms/step - loss: 3.5415 - accuracy: 0.1263 - val_loss: 3.4446 - val_accuracy: 0.1111\n",
            "Epoch 10/100\n",
            "219/219 [==============================] - 2s 11ms/step - loss: 3.4944 - accuracy: 0.1376 - val_loss: 3.4252 - val_accuracy: 0.1365\n",
            "Epoch 11/100\n",
            "219/219 [==============================] - 2s 11ms/step - loss: 3.4674 - accuracy: 0.1532 - val_loss: 3.4102 - val_accuracy: 0.1395\n",
            "Epoch 12/100\n",
            "219/219 [==============================] - 2s 11ms/step - loss: 3.4623 - accuracy: 0.1622 - val_loss: 3.3808 - val_accuracy: 0.1515\n",
            "Epoch 13/100\n",
            "219/219 [==============================] - 3s 12ms/step - loss: 3.4290 - accuracy: 0.1695 - val_loss: 3.3583 - val_accuracy: 0.1629\n",
            "Epoch 14/100\n",
            "219/219 [==============================] - 3s 11ms/step - loss: 3.3984 - accuracy: 0.1722 - val_loss: 3.2919 - val_accuracy: 0.1956\n",
            "Epoch 15/100\n",
            "219/219 [==============================] - 2s 11ms/step - loss: 3.3593 - accuracy: 0.1768 - val_loss: 3.3048 - val_accuracy: 0.1806\n",
            "Epoch 16/100\n",
            "219/219 [==============================] - 3s 12ms/step - loss: 3.3261 - accuracy: 0.1937 - val_loss: 3.2482 - val_accuracy: 0.2053\n",
            "Epoch 17/100\n",
            "219/219 [==============================] - 3s 12ms/step - loss: 3.3156 - accuracy: 0.1903 - val_loss: 3.2274 - val_accuracy: 0.2099\n",
            "Epoch 18/100\n",
            "219/219 [==============================] - 2s 11ms/step - loss: 3.2930 - accuracy: 0.2023 - val_loss: 3.2055 - val_accuracy: 0.2126\n",
            "Epoch 19/100\n",
            "219/219 [==============================] - 2s 11ms/step - loss: 3.2604 - accuracy: 0.2066 - val_loss: 3.2600 - val_accuracy: 0.1762\n",
            "Epoch 20/100\n",
            "219/219 [==============================] - 2s 11ms/step - loss: 3.2247 - accuracy: 0.2132 - val_loss: 3.1355 - val_accuracy: 0.2403\n",
            "Epoch 21/100\n",
            "219/219 [==============================] - 3s 12ms/step - loss: 3.1886 - accuracy: 0.2207 - val_loss: 3.1425 - val_accuracy: 0.2256\n",
            "Epoch 22/100\n",
            "219/219 [==============================] - 3s 12ms/step - loss: 3.1661 - accuracy: 0.2233 - val_loss: 3.1461 - val_accuracy: 0.2186\n",
            "Epoch 23/100\n",
            "219/219 [==============================] - 2s 11ms/step - loss: 3.1457 - accuracy: 0.2310 - val_loss: 3.0918 - val_accuracy: 0.2383\n",
            "Epoch 24/100\n",
            "219/219 [==============================] - 3s 12ms/step - loss: 3.1174 - accuracy: 0.2263 - val_loss: 3.1109 - val_accuracy: 0.2170\n",
            "Epoch 25/100\n",
            "219/219 [==============================] - 3s 11ms/step - loss: 3.0999 - accuracy: 0.2323 - val_loss: 3.0756 - val_accuracy: 0.2306\n",
            "Epoch 26/100\n",
            "219/219 [==============================] - 2s 11ms/step - loss: 3.0686 - accuracy: 0.2335 - val_loss: 3.0481 - val_accuracy: 0.2420\n",
            "Epoch 27/100\n",
            "219/219 [==============================] - 3s 11ms/step - loss: 3.0504 - accuracy: 0.2378 - val_loss: 3.0101 - val_accuracy: 0.2423\n",
            "Epoch 28/100\n",
            "219/219 [==============================] - 3s 11ms/step - loss: 2.9983 - accuracy: 0.2475 - val_loss: 2.9561 - val_accuracy: 0.2610\n",
            "Epoch 29/100\n",
            "219/219 [==============================] - 3s 11ms/step - loss: 2.9766 - accuracy: 0.2423 - val_loss: 2.9618 - val_accuracy: 0.2437\n",
            "Epoch 30/100\n",
            "219/219 [==============================] - 3s 12ms/step - loss: 2.9596 - accuracy: 0.2442 - val_loss: 2.9381 - val_accuracy: 0.2547\n",
            "Epoch 31/100\n",
            "219/219 [==============================] - 3s 12ms/step - loss: 2.9288 - accuracy: 0.2476 - val_loss: 2.9081 - val_accuracy: 0.2480\n",
            "Epoch 32/100\n",
            "219/219 [==============================] - 2s 11ms/step - loss: 2.9012 - accuracy: 0.2565 - val_loss: 2.8692 - val_accuracy: 0.2620\n",
            "Epoch 33/100\n",
            "219/219 [==============================] - 3s 12ms/step - loss: 2.8583 - accuracy: 0.2599 - val_loss: 2.8489 - val_accuracy: 0.2700\n",
            "Epoch 34/100\n",
            "219/219 [==============================] - 2s 11ms/step - loss: 2.8392 - accuracy: 0.2645 - val_loss: 2.8102 - val_accuracy: 0.2710\n",
            "Epoch 35/100\n",
            "219/219 [==============================] - 3s 11ms/step - loss: 2.8152 - accuracy: 0.2688 - val_loss: 2.8235 - val_accuracy: 0.2477\n",
            "Epoch 36/100\n",
            "219/219 [==============================] - 3s 11ms/step - loss: 2.7612 - accuracy: 0.2725 - val_loss: 2.7817 - val_accuracy: 0.2687\n",
            "Epoch 37/100\n",
            "219/219 [==============================] - 3s 11ms/step - loss: 2.7478 - accuracy: 0.2783 - val_loss: 2.7512 - val_accuracy: 0.2830\n",
            "Epoch 38/100\n",
            "219/219 [==============================] - 2s 11ms/step - loss: 2.7069 - accuracy: 0.2880 - val_loss: 2.6959 - val_accuracy: 0.2994\n",
            "Epoch 39/100\n",
            "219/219 [==============================] - 3s 12ms/step - loss: 2.6863 - accuracy: 0.2896 - val_loss: 2.6883 - val_accuracy: 0.2941\n",
            "Epoch 40/100\n",
            "219/219 [==============================] - 3s 11ms/step - loss: 2.6533 - accuracy: 0.2913 - val_loss: 2.7018 - val_accuracy: 0.2800\n",
            "Epoch 41/100\n",
            "219/219 [==============================] - 2s 11ms/step - loss: 2.6264 - accuracy: 0.2943 - val_loss: 2.6662 - val_accuracy: 0.2901\n",
            "Epoch 42/100\n",
            "219/219 [==============================] - 2s 11ms/step - loss: 2.6032 - accuracy: 0.2913 - val_loss: 2.6214 - val_accuracy: 0.2987\n",
            "Epoch 43/100\n",
            "219/219 [==============================] - 2s 11ms/step - loss: 2.5743 - accuracy: 0.3013 - val_loss: 2.6018 - val_accuracy: 0.3061\n",
            "Epoch 44/100\n",
            "219/219 [==============================] - 3s 12ms/step - loss: 2.5472 - accuracy: 0.3057 - val_loss: 2.6063 - val_accuracy: 0.3064\n",
            "Epoch 45/100\n",
            "219/219 [==============================] - 3s 12ms/step - loss: 2.5129 - accuracy: 0.3060 - val_loss: 2.5698 - val_accuracy: 0.3067\n",
            "Epoch 46/100\n",
            "219/219 [==============================] - 3s 12ms/step - loss: 2.4941 - accuracy: 0.3050 - val_loss: 2.5350 - val_accuracy: 0.3027\n",
            "Epoch 47/100\n",
            "219/219 [==============================] - 3s 12ms/step - loss: 2.4587 - accuracy: 0.3113 - val_loss: 2.5308 - val_accuracy: 0.2994\n",
            "Epoch 48/100\n",
            "219/219 [==============================] - 3s 12ms/step - loss: 2.4312 - accuracy: 0.3206 - val_loss: 2.4968 - val_accuracy: 0.3178\n",
            "Epoch 49/100\n",
            "219/219 [==============================] - 3s 12ms/step - loss: 2.4074 - accuracy: 0.3123 - val_loss: 2.4732 - val_accuracy: 0.3241\n",
            "Epoch 50/100\n",
            "219/219 [==============================] - 3s 11ms/step - loss: 2.3778 - accuracy: 0.3242 - val_loss: 2.4382 - val_accuracy: 0.3191\n",
            "Epoch 51/100\n",
            "219/219 [==============================] - 3s 11ms/step - loss: 2.3681 - accuracy: 0.3196 - val_loss: 2.4353 - val_accuracy: 0.3221\n",
            "Epoch 52/100\n",
            "219/219 [==============================] - 3s 11ms/step - loss: 2.3276 - accuracy: 0.3272 - val_loss: 2.4062 - val_accuracy: 0.3268\n",
            "Epoch 53/100\n",
            "219/219 [==============================] - 3s 11ms/step - loss: 2.3058 - accuracy: 0.3348 - val_loss: 2.3622 - val_accuracy: 0.3261\n",
            "Epoch 54/100\n",
            "219/219 [==============================] - 3s 11ms/step - loss: 2.2934 - accuracy: 0.3289 - val_loss: 2.3834 - val_accuracy: 0.3304\n",
            "Epoch 55/100\n",
            "219/219 [==============================] - 2s 11ms/step - loss: 2.2669 - accuracy: 0.3396 - val_loss: 2.3603 - val_accuracy: 0.3218\n",
            "Epoch 56/100\n",
            "219/219 [==============================] - 3s 11ms/step - loss: 2.2537 - accuracy: 0.3403 - val_loss: 2.3341 - val_accuracy: 0.3358\n",
            "Epoch 57/100\n",
            "219/219 [==============================] - 2s 11ms/step - loss: 2.2300 - accuracy: 0.3441 - val_loss: 2.3056 - val_accuracy: 0.3301\n",
            "Epoch 58/100\n",
            "219/219 [==============================] - 3s 12ms/step - loss: 2.1872 - accuracy: 0.3597 - val_loss: 2.3064 - val_accuracy: 0.3495\n",
            "Epoch 59/100\n",
            "219/219 [==============================] - 3s 11ms/step - loss: 2.1692 - accuracy: 0.3628 - val_loss: 2.2217 - val_accuracy: 0.3565\n",
            "Epoch 60/100\n",
            "219/219 [==============================] - 3s 12ms/step - loss: 2.1174 - accuracy: 0.3665 - val_loss: 2.1927 - val_accuracy: 0.3398\n",
            "Epoch 61/100\n",
            "219/219 [==============================] - 3s 11ms/step - loss: 2.0946 - accuracy: 0.3645 - val_loss: 2.1181 - val_accuracy: 0.3531\n",
            "Epoch 62/100\n",
            "219/219 [==============================] - 2s 11ms/step - loss: 2.0423 - accuracy: 0.3794 - val_loss: 2.0702 - val_accuracy: 0.4072\n",
            "Epoch 63/100\n",
            "219/219 [==============================] - 2s 11ms/step - loss: 2.0199 - accuracy: 0.3926 - val_loss: 2.0951 - val_accuracy: 0.4055\n",
            "Epoch 64/100\n",
            "219/219 [==============================] - 2s 11ms/step - loss: 1.9989 - accuracy: 0.4020 - val_loss: 2.0474 - val_accuracy: 0.4072\n",
            "Epoch 65/100\n",
            "219/219 [==============================] - 3s 11ms/step - loss: 1.9589 - accuracy: 0.4119 - val_loss: 2.1034 - val_accuracy: 0.4186\n",
            "Epoch 66/100\n",
            "219/219 [==============================] - 2s 11ms/step - loss: 1.9481 - accuracy: 0.4155 - val_loss: 2.0255 - val_accuracy: 0.4109\n",
            "Epoch 67/100\n",
            "219/219 [==============================] - 2s 11ms/step - loss: 1.9021 - accuracy: 0.4315 - val_loss: 2.0116 - val_accuracy: 0.4249\n",
            "Epoch 68/100\n",
            "219/219 [==============================] - 2s 11ms/step - loss: 1.8738 - accuracy: 0.4429 - val_loss: 1.9805 - val_accuracy: 0.4386\n",
            "Epoch 69/100\n",
            "219/219 [==============================] - 3s 11ms/step - loss: 1.8380 - accuracy: 0.4555 - val_loss: 1.9420 - val_accuracy: 0.4352\n",
            "Epoch 70/100\n",
            "219/219 [==============================] - 2s 11ms/step - loss: 1.8110 - accuracy: 0.4681 - val_loss: 1.9374 - val_accuracy: 0.4583\n",
            "Epoch 71/100\n",
            "219/219 [==============================] - 3s 12ms/step - loss: 1.7892 - accuracy: 0.4670 - val_loss: 1.9545 - val_accuracy: 0.4526\n",
            "Epoch 72/100\n",
            "219/219 [==============================] - 3s 12ms/step - loss: 1.7512 - accuracy: 0.4876 - val_loss: 1.9156 - val_accuracy: 0.4563\n",
            "Epoch 73/100\n",
            "219/219 [==============================] - 3s 12ms/step - loss: 1.7298 - accuracy: 0.4886 - val_loss: 1.8832 - val_accuracy: 0.4823\n",
            "Epoch 74/100\n",
            "219/219 [==============================] - 3s 12ms/step - loss: 1.6964 - accuracy: 0.5069 - val_loss: 1.9010 - val_accuracy: 0.4700\n",
            "Epoch 75/100\n",
            "219/219 [==============================] - 3s 12ms/step - loss: 1.6806 - accuracy: 0.5041 - val_loss: 1.8265 - val_accuracy: 0.4803\n",
            "Epoch 76/100\n",
            "219/219 [==============================] - 3s 11ms/step - loss: 1.6366 - accuracy: 0.5120 - val_loss: 1.8419 - val_accuracy: 0.4887\n",
            "Epoch 77/100\n",
            "219/219 [==============================] - 3s 11ms/step - loss: 1.6400 - accuracy: 0.5229 - val_loss: 1.8337 - val_accuracy: 0.4977\n",
            "Epoch 78/100\n",
            "219/219 [==============================] - 3s 12ms/step - loss: 1.5917 - accuracy: 0.5474 - val_loss: 1.8092 - val_accuracy: 0.5120\n",
            "Epoch 79/100\n",
            "219/219 [==============================] - 3s 11ms/step - loss: 1.5846 - accuracy: 0.5439 - val_loss: 1.7846 - val_accuracy: 0.5184\n",
            "Epoch 80/100\n",
            "219/219 [==============================] - 3s 11ms/step - loss: 1.5397 - accuracy: 0.5572 - val_loss: 1.8087 - val_accuracy: 0.5100\n",
            "Epoch 81/100\n",
            "219/219 [==============================] - 3s 11ms/step - loss: 1.5100 - accuracy: 0.5715 - val_loss: 1.7647 - val_accuracy: 0.5207\n",
            "Epoch 82/100\n",
            "219/219 [==============================] - 2s 11ms/step - loss: 1.4972 - accuracy: 0.5717 - val_loss: 1.8023 - val_accuracy: 0.5113\n",
            "Epoch 83/100\n",
            "219/219 [==============================] - 3s 11ms/step - loss: 1.4610 - accuracy: 0.5764 - val_loss: 1.7996 - val_accuracy: 0.5360\n",
            "Epoch 84/100\n",
            "219/219 [==============================] - 2s 11ms/step - loss: 1.4603 - accuracy: 0.5771 - val_loss: 1.7970 - val_accuracy: 0.5461\n",
            "Epoch 85/100\n",
            "219/219 [==============================] - 3s 11ms/step - loss: 1.4509 - accuracy: 0.5868 - val_loss: 1.7813 - val_accuracy: 0.5300\n",
            "Epoch 86/100\n",
            "219/219 [==============================] - 3s 11ms/step - loss: 1.4173 - accuracy: 0.5904 - val_loss: 1.7451 - val_accuracy: 0.5424\n",
            "Epoch 87/100\n",
            "219/219 [==============================] - 2s 11ms/step - loss: 1.3851 - accuracy: 0.6023 - val_loss: 1.7444 - val_accuracy: 0.5487\n",
            "Epoch 88/100\n",
            "219/219 [==============================] - 2s 11ms/step - loss: 1.3732 - accuracy: 0.6099 - val_loss: 1.7145 - val_accuracy: 0.5401\n",
            "Epoch 89/100\n",
            "219/219 [==============================] - 2s 11ms/step - loss: 1.3697 - accuracy: 0.6123 - val_loss: 1.7441 - val_accuracy: 0.5484\n",
            "Epoch 90/100\n",
            "219/219 [==============================] - 2s 11ms/step - loss: 1.3183 - accuracy: 0.6255 - val_loss: 1.7347 - val_accuracy: 0.5451\n",
            "Epoch 91/100\n",
            "219/219 [==============================] - 2s 11ms/step - loss: 1.3163 - accuracy: 0.6219 - val_loss: 1.7525 - val_accuracy: 0.5554\n",
            "Epoch 92/100\n",
            "219/219 [==============================] - 3s 12ms/step - loss: 1.3042 - accuracy: 0.6320 - val_loss: 1.7901 - val_accuracy: 0.5554\n",
            "Epoch 93/100\n",
            "219/219 [==============================] - 3s 12ms/step - loss: 1.3025 - accuracy: 0.6332 - val_loss: 1.7254 - val_accuracy: 0.5621\n",
            "Epoch 94/100\n",
            "219/219 [==============================] - 3s 12ms/step - loss: 1.2576 - accuracy: 0.6535 - val_loss: 1.7553 - val_accuracy: 0.5574\n",
            "Epoch 95/100\n",
            "219/219 [==============================] - 3s 12ms/step - loss: 1.2500 - accuracy: 0.6538 - val_loss: 1.7288 - val_accuracy: 0.5584\n",
            "Epoch 96/100\n",
            "219/219 [==============================] - 3s 12ms/step - loss: 1.2425 - accuracy: 0.6548 - val_loss: 1.7014 - val_accuracy: 0.5754\n",
            "Epoch 97/100\n",
            "219/219 [==============================] - 3s 12ms/step - loss: 1.2240 - accuracy: 0.6651 - val_loss: 1.7795 - val_accuracy: 0.5678\n",
            "Epoch 98/100\n",
            "219/219 [==============================] - 3s 12ms/step - loss: 1.2139 - accuracy: 0.6608 - val_loss: 1.7337 - val_accuracy: 0.5561\n",
            "Epoch 99/100\n",
            "219/219 [==============================] - 3s 12ms/step - loss: 1.1992 - accuracy: 0.6701 - val_loss: 1.7960 - val_accuracy: 0.5668\n",
            "Epoch 100/100\n",
            "219/219 [==============================] - 3s 12ms/step - loss: 1.1619 - accuracy: 0.6797 - val_loss: 1.7294 - val_accuracy: 0.5644\n"
          ]
        }
      ],
      "source": [
        "# train model\n",
        "history = model_regularized.fit(X_train, y_train, validation_data=(X_test, y_test), batch_size=32, epochs=100)"
      ]
    },
    {
      "cell_type": "code",
      "execution_count": 17,
      "metadata": {
        "id": "h4mNmGka-eFQ"
      },
      "outputs": [
        {
          "data": {
            "image/png": "[encoded data removed]",
            "text/plain": [
              "<Figure size 640x480 with 2 Axes>"
            ]
          },
          "metadata": {},
          "output_type": "display_data"
        }
      ],
      "source": [
        "# plot accuracy and error as a function of the epochs\n",
        "plot_history(history)"
      ]
    },
    {
      "cell_type": "markdown",
      "metadata": {
        "id": "qR5YHT5gNUGQ"
      },
      "source": [
        "# Convolutional Neural Network"
      ]
    },
    {
      "cell_type": "code",
      "execution_count": 18,
      "metadata": {
        "id": "TIkf5MElBSpN"
      },
      "outputs": [],
      "source": [
        "#train, validation and test split\n",
        "X_train, X_test, y_train, y_test = train_test_split(X, y, test_size=0.25)\n",
        "X_train, X_validation, y_train, y_validation = train_test_split(X_train, y_train, test_size=0.2)\n",
        "\n",
        "# add an axis to input sets\n",
        "X_train = X_train[..., np.newaxis]\n",
        "X_validation = X_validation[..., np.newaxis]\n",
        "X_test = X_test[..., np.newaxis]"
      ]
    },
    {
      "cell_type": "code",
      "execution_count": 19,
      "metadata": {
        "colab": {
          "base_uri": "https://localhost:8080/"
        },
        "id": "2MLdNQdzSIao",
        "outputId": "f205142f-12ce-474a-a666-553512d71ba6"
      },
      "outputs": [
        {
          "data": {
            "text/plain": [
              "(5991, 130, 13, 1)"
            ]
          },
          "execution_count": 19,
          "metadata": {},
          "output_type": "execute_result"
        }
      ],
      "source": [
        "X_train.shape"
      ]
    },
    {
      "cell_type": "code",
      "execution_count": 20,
      "metadata": {
        "id": "8Q5qLVFtMh1E"
      },
      "outputs": [],
      "source": [
        "input_shape = (X_train.shape[1], X_train.shape[2], 1)"
      ]
    },
    {
      "cell_type": "code",
      "execution_count": 21,
      "metadata": {
        "id": "odglabSpLDm2"
      },
      "outputs": [],
      "source": [
        "# build the CNN\n",
        "model_cnn = keras.Sequential()\n",
        "\n",
        "# 1st conv layer\n",
        "model_cnn.add(keras.layers.Conv2D(32, (3, 3), activation='relu', input_shape=input_shape))\n",
        "model_cnn.add(keras.layers.MaxPooling2D((3, 3), strides=(2, 2), padding='same'))\n",
        "model_cnn.add(keras.layers.BatchNormalization())\n",
        "\n",
        "# 2nd conv layer\n",
        "model_cnn.add(keras.layers.Conv2D(32, (3, 3), activation='relu'))\n",
        "model_cnn.add(keras.layers.MaxPooling2D((3, 3), strides=(2, 2), padding='same'))\n",
        "model_cnn.add(keras.layers.BatchNormalization())\n",
        "\n",
        "# 3rd conv layer\n",
        "model_cnn.add(keras.layers.Conv2D(32, (2, 2), activation='relu'))\n",
        "model_cnn.add(keras.layers.MaxPooling2D((2, 2), strides=(2, 2), padding='same'))\n",
        "model_cnn.add(keras.layers.BatchNormalization())\n",
        "\n",
        "# flatten output and feed it into dense layer\n",
        "model_cnn.add(keras.layers.Flatten())\n",
        "model_cnn.add(keras.layers.Dense(64, activation='relu'))\n",
        "model_cnn.add(keras.layers.Dropout(0.3))\n",
        "\n",
        "# output layer\n",
        "model_cnn.add(keras.layers.Dense(10, activation='softmax'))"
      ]
    },
    {
      "cell_type": "code",
      "execution_count": 22,
      "metadata": {
        "id": "cSpAxo7hMjJv"
      },
      "outputs": [],
      "source": [
        "# compile model\n",
        "optimiser = keras.optimizers.Adam(learning_rate=0.0001)\n",
        "model_cnn.compile(optimizer=optimiser,\n",
        "              loss='sparse_categorical_crossentropy',\n",
        "              metrics=['accuracy'])"
      ]
    },
    {
      "cell_type": "code",
      "execution_count": 23,
      "metadata": {
        "colab": {
          "base_uri": "https://localhost:8080/"
        },
        "id": "2guylBT6Mq38",
        "outputId": "aa4800e5-2775-44e8-ef28-946059b4d31f"
      },
      "outputs": [
        {
          "name": "stdout",
          "output_type": "stream",
          "text": [
            "Model: \"sequential_2\"\n",
            "_________________________________________________________________\n",
            " Layer (type)                Output Shape              Param #   \n",
            "=================================================================\n",
            " conv2d (Conv2D)             (None, 128, 11, 32)       320       \n",
            "                                                                 \n",
            " max_pooling2d (MaxPooling2  (None, 64, 6, 32)         0         \n",
            " D)                                                              \n",
            "                                                                 \n",
            " batch_normalization (Batch  (None, 64, 6, 32)         128       \n",
            " Normalization)                                                  \n",
            "                                                                 \n",
            " conv2d_1 (Conv2D)           (None, 62, 4, 32)         9248      \n",
            "                                                                 \n",
            " max_pooling2d_1 (MaxPoolin  (None, 31, 2, 32)         0         \n",
            " g2D)                                                            \n",
            "                                                                 \n",
            " batch_normalization_1 (Bat  (None, 31, 2, 32)         128       \n",
            " chNormalization)                                                \n",
            "                                                                 \n",
            " conv2d_2 (Conv2D)           (None, 30, 1, 32)         4128      \n",
            "                                                                 \n",
            " max_pooling2d_2 (MaxPoolin  (None, 15, 1, 32)         0         \n",
            " g2D)                                                            \n",
            "                                                                 \n",
            " batch_normalization_2 (Bat  (None, 15, 1, 32)         128       \n",
            " chNormalization)                                                \n",
            "                                                                 \n",
            " flatten_2 (Flatten)         (None, 480)               0         \n",
            "                                                                 \n",
            " dense_8 (Dense)             (None, 64)                30784     \n",
            "                                                                 \n",
            " dropout_3 (Dropout)         (None, 64)                0         \n",
            "                                                                 \n",
            " dense_9 (Dense)             (None, 10)                650       \n",
            "                                                                 \n",
            "=================================================================\n",
            "Total params: 45514 (177.79 KB)\n",
            "Trainable params: 45322 (177.04 KB)\n",
            "Non-trainable params: 192 (768.00 Byte)\n",
            "_________________________________________________________________\n"
          ]
        }
      ],
      "source": [
        "model_cnn.summary()"
      ]
    },
    {
      "cell_type": "code",
      "execution_count": 24,
      "metadata": {
        "colab": {
          "base_uri": "https://localhost:8080/"
        },
        "id": "lDuRqI6MNi85",
        "outputId": "b95ff98e-2f7c-4e1f-d88d-ea6587137ebc"
      },
      "outputs": [
        {
          "name": "stdout",
          "output_type": "stream",
          "text": [
            "Epoch 1/100\n",
            "188/188 [==============================] - 6s 22ms/step - loss: 2.3335 - accuracy: 0.2544 - val_loss: 1.8164 - val_accuracy: 0.3959\n",
            "Epoch 2/100\n",
            "188/188 [==============================] - 4s 20ms/step - loss: 1.8361 - accuracy: 0.3645 - val_loss: 1.5262 - val_accuracy: 0.4566\n",
            "Epoch 3/100\n",
            "188/188 [==============================] - 4s 20ms/step - loss: 1.6428 - accuracy: 0.4210 - val_loss: 1.4093 - val_accuracy: 0.5007\n",
            "Epoch 4/100\n",
            "188/188 [==============================] - 4s 21ms/step - loss: 1.5137 - accuracy: 0.4582 - val_loss: 1.3259 - val_accuracy: 0.5140\n",
            "Epoch 5/100\n",
            "188/188 [==============================] - 4s 20ms/step - loss: 1.4291 - accuracy: 0.4937 - val_loss: 1.2517 - val_accuracy: 0.5501\n",
            "Epoch 6/100\n",
            "188/188 [==============================] - 4s 20ms/step - loss: 1.3610 - accuracy: 0.5121 - val_loss: 1.1926 - val_accuracy: 0.5688\n",
            "Epoch 7/100\n",
            "188/188 [==============================] - 4s 20ms/step - loss: 1.2912 - accuracy: 0.5421 - val_loss: 1.1522 - val_accuracy: 0.5861\n",
            "Epoch 8/100\n",
            "188/188 [==============================] - 4s 20ms/step - loss: 1.2485 - accuracy: 0.5602 - val_loss: 1.1373 - val_accuracy: 0.5908\n",
            "Epoch 9/100\n",
            "188/188 [==============================] - 4s 20ms/step - loss: 1.1919 - accuracy: 0.5787 - val_loss: 1.0931 - val_accuracy: 0.6088\n",
            "Epoch 10/100\n",
            "188/188 [==============================] - 4s 21ms/step - loss: 1.1424 - accuracy: 0.6007 - val_loss: 1.0699 - val_accuracy: 0.6235\n",
            "Epoch 11/100\n",
            "188/188 [==============================] - 4s 20ms/step - loss: 1.1182 - accuracy: 0.6064 - val_loss: 1.0421 - val_accuracy: 0.6328\n",
            "Epoch 12/100\n",
            "188/188 [==============================] - 4s 21ms/step - loss: 1.0728 - accuracy: 0.6206 - val_loss: 1.0611 - val_accuracy: 0.6168\n",
            "Epoch 13/100\n",
            "188/188 [==============================] - 4s 21ms/step - loss: 1.0600 - accuracy: 0.6253 - val_loss: 1.0071 - val_accuracy: 0.6382\n",
            "Epoch 14/100\n",
            "188/188 [==============================] - 4s 21ms/step - loss: 1.0341 - accuracy: 0.6396 - val_loss: 1.0166 - val_accuracy: 0.6495\n",
            "Epoch 15/100\n",
            "188/188 [==============================] - 4s 21ms/step - loss: 1.0004 - accuracy: 0.6523 - val_loss: 0.9653 - val_accuracy: 0.6502\n",
            "Epoch 16/100\n",
            "188/188 [==============================] - 4s 21ms/step - loss: 0.9747 - accuracy: 0.6582 - val_loss: 0.9537 - val_accuracy: 0.6669\n",
            "Epoch 17/100\n",
            "188/188 [==============================] - 5s 27ms/step - loss: 0.9516 - accuracy: 0.6692 - val_loss: 0.9469 - val_accuracy: 0.6656\n",
            "Epoch 18/100\n",
            "188/188 [==============================] - 4s 21ms/step - loss: 0.9228 - accuracy: 0.6750 - val_loss: 0.9513 - val_accuracy: 0.6696\n",
            "Epoch 19/100\n",
            "188/188 [==============================] - 4s 20ms/step - loss: 0.8914 - accuracy: 0.6869 - val_loss: 0.9205 - val_accuracy: 0.6749\n",
            "Epoch 20/100\n",
            "188/188 [==============================] - 4s 21ms/step - loss: 0.8829 - accuracy: 0.6975 - val_loss: 0.8997 - val_accuracy: 0.6849\n",
            "Epoch 21/100\n",
            "188/188 [==============================] - 4s 20ms/step - loss: 0.8642 - accuracy: 0.6982 - val_loss: 0.9070 - val_accuracy: 0.6862\n",
            "Epoch 22/100\n",
            "188/188 [==============================] - 4s 20ms/step - loss: 0.8357 - accuracy: 0.7124 - val_loss: 0.9010 - val_accuracy: 0.6943\n",
            "Epoch 23/100\n",
            "188/188 [==============================] - 4s 22ms/step - loss: 0.8274 - accuracy: 0.7141 - val_loss: 0.8779 - val_accuracy: 0.6996\n",
            "Epoch 24/100\n",
            "188/188 [==============================] - 4s 22ms/step - loss: 0.8017 - accuracy: 0.7174 - val_loss: 0.8738 - val_accuracy: 0.7029\n",
            "Epoch 25/100\n",
            "188/188 [==============================] - 4s 21ms/step - loss: 0.7931 - accuracy: 0.7293 - val_loss: 0.8506 - val_accuracy: 0.7089\n",
            "Epoch 26/100\n",
            "188/188 [==============================] - 4s 21ms/step - loss: 0.7823 - accuracy: 0.7309 - val_loss: 0.8493 - val_accuracy: 0.6996\n",
            "Epoch 27/100\n",
            "188/188 [==============================] - 4s 22ms/step - loss: 0.7659 - accuracy: 0.7361 - val_loss: 0.8666 - val_accuracy: 0.6989\n",
            "Epoch 28/100\n",
            "188/188 [==============================] - 4s 22ms/step - loss: 0.7460 - accuracy: 0.7481 - val_loss: 0.8996 - val_accuracy: 0.6883\n",
            "Epoch 29/100\n",
            "188/188 [==============================] - 4s 22ms/step - loss: 0.7256 - accuracy: 0.7563 - val_loss: 0.8364 - val_accuracy: 0.7049\n",
            "Epoch 30/100\n",
            "188/188 [==============================] - 4s 22ms/step - loss: 0.7093 - accuracy: 0.7540 - val_loss: 0.8408 - val_accuracy: 0.7163\n",
            "Epoch 31/100\n",
            "188/188 [==============================] - 4s 22ms/step - loss: 0.6989 - accuracy: 0.7643 - val_loss: 0.8209 - val_accuracy: 0.7176\n",
            "Epoch 32/100\n",
            "188/188 [==============================] - 4s 22ms/step - loss: 0.6833 - accuracy: 0.7675 - val_loss: 0.8333 - val_accuracy: 0.7183\n",
            "Epoch 33/100\n",
            "188/188 [==============================] - 4s 21ms/step - loss: 0.6766 - accuracy: 0.7682 - val_loss: 0.8205 - val_accuracy: 0.7190\n",
            "Epoch 34/100\n",
            "188/188 [==============================] - 4s 20ms/step - loss: 0.6674 - accuracy: 0.7655 - val_loss: 0.8334 - val_accuracy: 0.7109\n",
            "Epoch 35/100\n",
            "188/188 [==============================] - 4s 21ms/step - loss: 0.6566 - accuracy: 0.7710 - val_loss: 0.8258 - val_accuracy: 0.7170\n",
            "Epoch 36/100\n",
            "188/188 [==============================] - 4s 22ms/step - loss: 0.6284 - accuracy: 0.7830 - val_loss: 0.8002 - val_accuracy: 0.7270\n",
            "Epoch 37/100\n",
            "188/188 [==============================] - 4s 22ms/step - loss: 0.6407 - accuracy: 0.7778 - val_loss: 0.8002 - val_accuracy: 0.7296\n",
            "Epoch 38/100\n",
            "188/188 [==============================] - 4s 22ms/step - loss: 0.6182 - accuracy: 0.7837 - val_loss: 0.8070 - val_accuracy: 0.7123\n",
            "Epoch 39/100\n",
            "188/188 [==============================] - 4s 22ms/step - loss: 0.6007 - accuracy: 0.7940 - val_loss: 0.8281 - val_accuracy: 0.7083\n",
            "Epoch 40/100\n",
            "188/188 [==============================] - 4s 22ms/step - loss: 0.5949 - accuracy: 0.7945 - val_loss: 0.8157 - val_accuracy: 0.7190\n",
            "Epoch 41/100\n",
            "188/188 [==============================] - 4s 21ms/step - loss: 0.5718 - accuracy: 0.8060 - val_loss: 0.7863 - val_accuracy: 0.7323\n",
            "Epoch 42/100\n",
            "188/188 [==============================] - 4s 22ms/step - loss: 0.5565 - accuracy: 0.8109 - val_loss: 0.8121 - val_accuracy: 0.7156\n",
            "Epoch 43/100\n",
            "188/188 [==============================] - 4s 22ms/step - loss: 0.5774 - accuracy: 0.7987 - val_loss: 0.7880 - val_accuracy: 0.7290\n",
            "Epoch 44/100\n",
            "188/188 [==============================] - 4s 21ms/step - loss: 0.5514 - accuracy: 0.8082 - val_loss: 0.8265 - val_accuracy: 0.7143\n",
            "Epoch 45/100\n",
            "188/188 [==============================] - 4s 21ms/step - loss: 0.5484 - accuracy: 0.8104 - val_loss: 0.8132 - val_accuracy: 0.7176\n",
            "Epoch 46/100\n",
            "188/188 [==============================] - 4s 21ms/step - loss: 0.5327 - accuracy: 0.8137 - val_loss: 0.7944 - val_accuracy: 0.7303\n",
            "Epoch 47/100\n",
            "188/188 [==============================] - 4s 21ms/step - loss: 0.5333 - accuracy: 0.8161 - val_loss: 0.7967 - val_accuracy: 0.7316\n",
            "Epoch 48/100\n",
            "188/188 [==============================] - 4s 21ms/step - loss: 0.5170 - accuracy: 0.8202 - val_loss: 0.7991 - val_accuracy: 0.7350\n",
            "Epoch 49/100\n",
            "188/188 [==============================] - 4s 21ms/step - loss: 0.5204 - accuracy: 0.8222 - val_loss: 0.8247 - val_accuracy: 0.7310\n",
            "Epoch 50/100\n",
            "188/188 [==============================] - 4s 21ms/step - loss: 0.5071 - accuracy: 0.8279 - val_loss: 0.7940 - val_accuracy: 0.7250\n",
            "Epoch 51/100\n",
            "188/188 [==============================] - 4s 22ms/step - loss: 0.4969 - accuracy: 0.8292 - val_loss: 0.8036 - val_accuracy: 0.7303\n",
            "Epoch 52/100\n",
            "188/188 [==============================] - 4s 22ms/step - loss: 0.4868 - accuracy: 0.8299 - val_loss: 0.8299 - val_accuracy: 0.7163\n",
            "Epoch 53/100\n",
            "188/188 [==============================] - 4s 22ms/step - loss: 0.4838 - accuracy: 0.8356 - val_loss: 0.7949 - val_accuracy: 0.7477\n",
            "Epoch 54/100\n",
            "188/188 [==============================] - 4s 22ms/step - loss: 0.4572 - accuracy: 0.8408 - val_loss: 0.7752 - val_accuracy: 0.7417\n",
            "Epoch 55/100\n",
            "188/188 [==============================] - 4s 21ms/step - loss: 0.4660 - accuracy: 0.8364 - val_loss: 0.7993 - val_accuracy: 0.7350\n",
            "Epoch 56/100\n",
            "188/188 [==============================] - 4s 23ms/step - loss: 0.4484 - accuracy: 0.8449 - val_loss: 0.8314 - val_accuracy: 0.7196\n",
            "Epoch 57/100\n",
            "188/188 [==============================] - 4s 24ms/step - loss: 0.4378 - accuracy: 0.8509 - val_loss: 0.7977 - val_accuracy: 0.7383\n",
            "Epoch 58/100\n",
            "188/188 [==============================] - 4s 22ms/step - loss: 0.4413 - accuracy: 0.8531 - val_loss: 0.8039 - val_accuracy: 0.7316\n",
            "Epoch 59/100\n",
            "188/188 [==============================] - 4s 22ms/step - loss: 0.4304 - accuracy: 0.8534 - val_loss: 0.8234 - val_accuracy: 0.7230\n",
            "Epoch 60/100\n",
            "188/188 [==============================] - 4s 23ms/step - loss: 0.4228 - accuracy: 0.8591 - val_loss: 0.7751 - val_accuracy: 0.7477\n",
            "Epoch 61/100\n",
            "188/188 [==============================] - 4s 22ms/step - loss: 0.4115 - accuracy: 0.8621 - val_loss: 0.7921 - val_accuracy: 0.7417\n",
            "Epoch 62/100\n",
            "188/188 [==============================] - 4s 22ms/step - loss: 0.4235 - accuracy: 0.8538 - val_loss: 0.8170 - val_accuracy: 0.7377\n",
            "Epoch 63/100\n",
            "188/188 [==============================] - 4s 22ms/step - loss: 0.4059 - accuracy: 0.8606 - val_loss: 0.8157 - val_accuracy: 0.7390\n",
            "Epoch 64/100\n",
            "188/188 [==============================] - 4s 22ms/step - loss: 0.4153 - accuracy: 0.8580 - val_loss: 0.7928 - val_accuracy: 0.7403\n",
            "Epoch 65/100\n",
            "188/188 [==============================] - 4s 22ms/step - loss: 0.4077 - accuracy: 0.8615 - val_loss: 0.8017 - val_accuracy: 0.7403\n",
            "Epoch 66/100\n",
            "188/188 [==============================] - 4s 23ms/step - loss: 0.3919 - accuracy: 0.8656 - val_loss: 0.7851 - val_accuracy: 0.7410\n",
            "Epoch 67/100\n",
            "188/188 [==============================] - 4s 23ms/step - loss: 0.3809 - accuracy: 0.8708 - val_loss: 0.7643 - val_accuracy: 0.7490\n",
            "Epoch 68/100\n",
            "188/188 [==============================] - 4s 22ms/step - loss: 0.3795 - accuracy: 0.8670 - val_loss: 0.8647 - val_accuracy: 0.7343\n",
            "Epoch 69/100\n",
            "188/188 [==============================] - 4s 22ms/step - loss: 0.3833 - accuracy: 0.8646 - val_loss: 0.8342 - val_accuracy: 0.7256\n",
            "Epoch 70/100\n",
            "188/188 [==============================] - 4s 22ms/step - loss: 0.3747 - accuracy: 0.8706 - val_loss: 0.7831 - val_accuracy: 0.7417\n",
            "Epoch 71/100\n",
            "188/188 [==============================] - 4s 22ms/step - loss: 0.3726 - accuracy: 0.8736 - val_loss: 0.8515 - val_accuracy: 0.7323\n",
            "Epoch 72/100\n",
            "188/188 [==============================] - 4s 23ms/step - loss: 0.3517 - accuracy: 0.8773 - val_loss: 0.8245 - val_accuracy: 0.7290\n",
            "Epoch 73/100\n",
            "188/188 [==============================] - 4s 22ms/step - loss: 0.3444 - accuracy: 0.8817 - val_loss: 0.8634 - val_accuracy: 0.7203\n",
            "Epoch 74/100\n",
            "188/188 [==============================] - 4s 22ms/step - loss: 0.3517 - accuracy: 0.8792 - val_loss: 0.8407 - val_accuracy: 0.7363\n",
            "Epoch 75/100\n",
            "188/188 [==============================] - 4s 22ms/step - loss: 0.3463 - accuracy: 0.8787 - val_loss: 0.8252 - val_accuracy: 0.7330\n",
            "Epoch 76/100\n",
            "188/188 [==============================] - 4s 23ms/step - loss: 0.3396 - accuracy: 0.8800 - val_loss: 0.7992 - val_accuracy: 0.7423\n",
            "Epoch 77/100\n",
            "188/188 [==============================] - 4s 23ms/step - loss: 0.3357 - accuracy: 0.8810 - val_loss: 0.8016 - val_accuracy: 0.7490\n",
            "Epoch 78/100\n",
            "188/188 [==============================] - 4s 22ms/step - loss: 0.3345 - accuracy: 0.8815 - val_loss: 0.7830 - val_accuracy: 0.7463\n",
            "Epoch 79/100\n",
            "188/188 [==============================] - 4s 22ms/step - loss: 0.3250 - accuracy: 0.8887 - val_loss: 0.8183 - val_accuracy: 0.7483\n",
            "Epoch 80/100\n",
            "188/188 [==============================] - 4s 22ms/step - loss: 0.3141 - accuracy: 0.8902 - val_loss: 0.8513 - val_accuracy: 0.7323\n",
            "Epoch 81/100\n",
            "188/188 [==============================] - 4s 22ms/step - loss: 0.3010 - accuracy: 0.8975 - val_loss: 0.8122 - val_accuracy: 0.7417\n",
            "Epoch 82/100\n",
            "188/188 [==============================] - 4s 22ms/step - loss: 0.3160 - accuracy: 0.8907 - val_loss: 0.8308 - val_accuracy: 0.7443\n",
            "Epoch 83/100\n",
            "188/188 [==============================] - 4s 22ms/step - loss: 0.3050 - accuracy: 0.8932 - val_loss: 0.8243 - val_accuracy: 0.7483\n",
            "Epoch 84/100\n",
            "188/188 [==============================] - 4s 22ms/step - loss: 0.2996 - accuracy: 0.8947 - val_loss: 0.8152 - val_accuracy: 0.7417\n",
            "Epoch 85/100\n",
            "188/188 [==============================] - 4s 23ms/step - loss: 0.3027 - accuracy: 0.8933 - val_loss: 0.8393 - val_accuracy: 0.7403\n",
            "Epoch 86/100\n",
            "188/188 [==============================] - 4s 22ms/step - loss: 0.2930 - accuracy: 0.9030 - val_loss: 0.8302 - val_accuracy: 0.7437\n",
            "Epoch 87/100\n",
            "188/188 [==============================] - 4s 22ms/step - loss: 0.2959 - accuracy: 0.8962 - val_loss: 0.8096 - val_accuracy: 0.7450\n",
            "Epoch 88/100\n",
            "188/188 [==============================] - 4s 22ms/step - loss: 0.3015 - accuracy: 0.8933 - val_loss: 0.8997 - val_accuracy: 0.7216\n",
            "Epoch 89/100\n",
            "188/188 [==============================] - 4s 22ms/step - loss: 0.2860 - accuracy: 0.9037 - val_loss: 0.8610 - val_accuracy: 0.7417\n",
            "Epoch 90/100\n",
            "188/188 [==============================] - 4s 22ms/step - loss: 0.2769 - accuracy: 0.9072 - val_loss: 0.8632 - val_accuracy: 0.7417\n",
            "Epoch 91/100\n",
            "188/188 [==============================] - 4s 22ms/step - loss: 0.2830 - accuracy: 0.9024 - val_loss: 0.8367 - val_accuracy: 0.7390\n",
            "Epoch 92/100\n",
            "188/188 [==============================] - 4s 22ms/step - loss: 0.2820 - accuracy: 0.9045 - val_loss: 0.8566 - val_accuracy: 0.7410\n",
            "Epoch 93/100\n",
            "188/188 [==============================] - 4s 22ms/step - loss: 0.2616 - accuracy: 0.9115 - val_loss: 0.8611 - val_accuracy: 0.7470\n",
            "Epoch 94/100\n",
            "188/188 [==============================] - 4s 21ms/step - loss: 0.2630 - accuracy: 0.9077 - val_loss: 0.8263 - val_accuracy: 0.7470\n",
            "Epoch 95/100\n",
            "188/188 [==============================] - 4s 22ms/step - loss: 0.2550 - accuracy: 0.9134 - val_loss: 0.8639 - val_accuracy: 0.7390\n",
            "Epoch 96/100\n",
            "188/188 [==============================] - 4s 22ms/step - loss: 0.2474 - accuracy: 0.9159 - val_loss: 0.8572 - val_accuracy: 0.7483\n",
            "Epoch 97/100\n",
            "188/188 [==============================] - 4s 22ms/step - loss: 0.2499 - accuracy: 0.9140 - val_loss: 0.8991 - val_accuracy: 0.7403\n",
            "Epoch 98/100\n",
            "188/188 [==============================] - 4s 22ms/step - loss: 0.2426 - accuracy: 0.9165 - val_loss: 0.8634 - val_accuracy: 0.7523\n",
            "Epoch 99/100\n",
            "188/188 [==============================] - 4s 22ms/step - loss: 0.2398 - accuracy: 0.9200 - val_loss: 0.8786 - val_accuracy: 0.7503\n",
            "Epoch 100/100\n",
            "188/188 [==============================] - 4s 22ms/step - loss: 0.2443 - accuracy: 0.9142 - val_loss: 0.8672 - val_accuracy: 0.7403\n"
          ]
        }
      ],
      "source": [
        "# train model\n",
        "history = model_cnn.fit(X_train, y_train, validation_data=(X_validation, y_validation), batch_size=32, epochs=100)"
      ]
    },
    {
      "cell_type": "code",
      "execution_count": 25,
      "metadata": {
        "colab": {
          "base_uri": "https://localhost:8080/",
          "height": 295
        },
        "id": "swrhVvauNuQH",
        "outputId": "97c7f20f-faaa-4218-f335-58ff94698ee7"
      },
      "outputs": [
        {
          "data": {
            "image/png": "[encoded data removed]",
            "text/plain": [
              "<Figure size 640x480 with 2 Axes>"
            ]
          },
          "metadata": {},
          "output_type": "display_data"
        }
      ],
      "source": [
        "# plot accuracy and error as a function of the epochs\n",
        "plot_history(history)"
      ]
    },
    {
      "cell_type": "code",
      "execution_count": 60,
      "metadata": {
        "colab": {
          "base_uri": "https://localhost:8080/"
        },
        "id": "9DcEvecoQwCr",
        "outputId": "fee386aa-4d10-41f1-978f-bc90d4d816fd"
      },
      "outputs": [
        {
          "name": "stdout",
          "output_type": "stream",
          "text": [
            "79/79 - 1s - loss: 0.8413 - accuracy: 0.7629 - 608ms/epoch - 8ms/step\n",
            "\n",
            "Test accuracy: 0.7629154920578003\n"
          ]
        }
      ],
      "source": [
        "# evaluate model on Test Set\n",
        "test_loss, test_acc = model_cnn.evaluate(X_test, y_test, verbose=2)\n",
        "print('\\nTest accuracy:', test_acc)"
      ]
    },
    {
      "cell_type": "code",
      "execution_count": 27,
      "metadata": {
        "colab": {
          "base_uri": "https://localhost:8080/"
        },
        "id": "CaYHpkcgZDt5",
        "outputId": "81393682-7053-4762-c2ce-d2095ca92cc3"
      },
      "outputs": [
        {
          "name": "stdout",
          "output_type": "stream",
          "text": [
            "INFO:tensorflow:Assets written to: Music_Genre_10_CNN\\assets\n"
          ]
        },
        {
          "name": "stderr",
          "output_type": "stream",
          "text": [
            "INFO:tensorflow:Assets written to: Music_Genre_10_CNN\\assets\n"
          ]
        }
      ],
      "source": [
        "model_cnn.save(\"Music_Genre_10_CNN\")"
      ]
    },
    {
      "cell_type": "code",
      "execution_count": 28,
      "metadata": {
        "id": "g3m7ae8KbhgA"
      },
      "outputs": [
        {
          "name": "stderr",
          "output_type": "stream",
          "text": [
            "c:\\Users\\viswa\\OneDrive\\Desktop\\Code Workplace\\Python\\Lib\\site-packages\\keras\\src\\engine\\training.py:3000: UserWarning: You are saving your model as an HDF5 file via `model.save()`. This file format is considered legacy. We recommend using instead the native Keras format, e.g. `model.save('my_model.keras')`.\n",
            "  saving_api.save_model(\n"
          ]
        }
      ],
      "source": [
        "model_cnn.save(\"Music_Genre_10_CNN.h5\")"
      ]
    },
    {
      "cell_type": "code",
      "execution_count": 29,
      "metadata": {
        "id": "YcNVvLE7a5zY"
      },
      "outputs": [],
      "source": [
        "# It can be used to reconstruct the model identically.\n",
        "reconstructed_model = keras.models.load_model(\"Music_Genre_10_CNN.h5\")"
      ]
    },
    {
      "cell_type": "markdown",
      "metadata": {
        "id": "amTbobMUl8aT"
      },
      "source": [
        "### Prediction on Test Set"
      ]
    },
    {
      "cell_type": "code",
      "execution_count": 30,
      "metadata": {
        "id": "JoJuudb4SU5Y"
      },
      "outputs": [],
      "source": [
        "# pick a sample to predict from the test set\n",
        "X_to_predict = X_test[100]\n",
        "y_to_predict = y_test[100]"
      ]
    },
    {
      "cell_type": "code",
      "execution_count": 31,
      "metadata": {
        "colab": {
          "base_uri": "https://localhost:8080/"
        },
        "id": "YsekW_GATac2",
        "outputId": "31b515ea-4e5b-49d7-9bc1-f68b048958cd"
      },
      "outputs": [
        {
          "data": {
            "text/plain": [
              "(130, 13, 1)"
            ]
          },
          "execution_count": 31,
          "metadata": {},
          "output_type": "execute_result"
        }
      ],
      "source": [
        "X_to_predict.shape"
      ]
    },
    {
      "cell_type": "code",
      "execution_count": 32,
      "metadata": {
        "colab": {
          "base_uri": "https://localhost:8080/"
        },
        "id": "_1ENPJgMSeVN",
        "outputId": "1c4acb0e-49be-4875-b822-d0e65bd70784"
      },
      "outputs": [
        {
          "name": "stdout",
          "output_type": "stream",
          "text": [
            "Real Genre: 0\n"
          ]
        }
      ],
      "source": [
        "print(\"Real Genre:\", y_to_predict)"
      ]
    },
    {
      "cell_type": "code",
      "execution_count": 33,
      "metadata": {
        "id": "Gu2iSKETTMPu"
      },
      "outputs": [],
      "source": [
        "# add a dimension to input data for sample - model.predict() expects a 4d array in this case\n",
        "X_to_predict = X_to_predict[np.newaxis, ...]"
      ]
    },
    {
      "cell_type": "code",
      "execution_count": 34,
      "metadata": {
        "colab": {
          "base_uri": "https://localhost:8080/"
        },
        "id": "qMqLO3W8TVfY",
        "outputId": "813d1589-00d9-4858-fa7d-1af221356fc1"
      },
      "outputs": [
        {
          "data": {
            "text/plain": [
              "(1, 130, 13, 1)"
            ]
          },
          "execution_count": 34,
          "metadata": {},
          "output_type": "execute_result"
        }
      ],
      "source": [
        "X_to_predict.shape"
      ]
    },
    {
      "cell_type": "code",
      "execution_count": 35,
      "metadata": {
        "id": "X55e2hN6ShP2"
      },
      "outputs": [
        {
          "name": "stdout",
          "output_type": "stream",
          "text": [
            "1/1 [==============================] - 0s 179ms/step\n"
          ]
        }
      ],
      "source": [
        "# perform prediction\n",
        "prediction = model_cnn.predict(X_to_predict)"
      ]
    },
    {
      "cell_type": "code",
      "execution_count": 36,
      "metadata": {
        "colab": {
          "base_uri": "https://localhost:8080/"
        },
        "id": "jBsKqDXdSzKP",
        "outputId": "0d707bf6-9232-4d53-de3c-f6d5a2c25d61"
      },
      "outputs": [
        {
          "name": "stdout",
          "output_type": "stream",
          "text": [
            "Predicted Genre: 0\n"
          ]
        }
      ],
      "source": [
        "# get index with max value\n",
        "predicted_index = np.argmax(prediction, axis=1)\n",
        "\n",
        "print(\"Predicted Genre:\", int(predicted_index))"
      ]
    },
    {
      "cell_type": "code",
      "execution_count": 37,
      "metadata": {
        "colab": {
          "base_uri": "https://localhost:8080/"
        },
        "id": "MdgbM96ZTr5t",
        "outputId": "da386183-dd5a-449e-832c-e02c9a68f714"
      },
      "outputs": [
        {
          "name": "stdout",
          "output_type": "stream",
          "text": [
            "Real Genre: 8\n",
            "1/1 [==============================] - 0s 24ms/step\n",
            "Predicted Genre: 3\n"
          ]
        }
      ],
      "source": [
        "# pick a sample to predict from the test set\n",
        "X_to_predict = X_test[50]\n",
        "y_to_predict = y_test[50]\n",
        "\n",
        "print(\"Real Genre:\", y_to_predict)\n",
        "\n",
        "X_to_predict = X_to_predict[np.newaxis, ...]\n",
        "\n",
        "prediction = model_cnn.predict(X_to_predict)\n",
        "\n",
        "# get index with max value\n",
        "predicted_index = np.argmax(prediction, axis=1)\n",
        "\n",
        "print(\"Predicted Genre:\", int(predicted_index))"
      ]
    },
    {
      "cell_type": "code",
      "execution_count": 38,
      "metadata": {
        "colab": {
          "base_uri": "https://localhost:8080/"
        },
        "id": "N87pHYBKUC-7",
        "outputId": "e1e2828a-826c-442a-e38e-52578c17b914"
      },
      "outputs": [
        {
          "data": {
            "text/plain": [
              "2497"
            ]
          },
          "execution_count": 38,
          "metadata": {},
          "output_type": "execute_result"
        }
      ],
      "source": [
        "len(X_test)"
      ]
    },
    {
      "cell_type": "code",
      "execution_count": 39,
      "metadata": {
        "colab": {
          "base_uri": "https://localhost:8080/"
        },
        "id": "NmVeofARUrWD",
        "outputId": "57e01080-a57e-4675-c800-f20ccf6c44f2"
      },
      "outputs": [
        {
          "name": "stdout",
          "output_type": "stream",
          "text": [
            "\n",
            "Real Genre: 7\n",
            "1/1 [==============================] - 0s 24ms/step\n",
            "Predicted Genre: 7\n",
            "\n",
            "Real Genre: 6\n",
            "1/1 [==============================] - 0s 25ms/step\n",
            "Predicted Genre: 6\n",
            "\n",
            "Real Genre: 0\n",
            "1/1 [==============================] - 0s 33ms/step\n",
            "Predicted Genre: 5\n",
            "\n",
            "Real Genre: 9\n",
            "1/1 [==============================] - 0s 32ms/step\n",
            "Predicted Genre: 0\n",
            "\n",
            "Real Genre: 0\n",
            "1/1 [==============================] - 0s 33ms/step\n",
            "Predicted Genre: 0\n",
            "\n",
            "Real Genre: 5\n",
            "1/1 [==============================] - 0s 24ms/step\n",
            "Predicted Genre: 5\n",
            "\n",
            "Real Genre: 8\n",
            "1/1 [==============================] - 0s 32ms/step\n",
            "Predicted Genre: 3\n",
            "\n",
            "Real Genre: 3\n",
            "1/1 [==============================] - 0s 24ms/step\n",
            "Predicted Genre: 3\n",
            "\n",
            "Real Genre: 6\n",
            "1/1 [==============================] - 0s 24ms/step\n",
            "Predicted Genre: 6\n",
            "\n",
            "Real Genre: 7\n",
            "1/1 [==============================] - 0s 27ms/step\n",
            "Predicted Genre: 7\n"
          ]
        }
      ],
      "source": [
        "for n in range(10):\n",
        "\n",
        "  i = random.randint(0,len(X_test))\n",
        "  # pick a sample to predict from the test set\n",
        "  X_to_predict = X_test[i]\n",
        "  y_to_predict = y_test[i]\n",
        "\n",
        "  print(\"\\nReal Genre:\", y_to_predict)\n",
        "\n",
        "  X_to_predict = X_to_predict[np.newaxis, ...]\n",
        "\n",
        "  prediction = model_cnn.predict(X_to_predict)\n",
        "\n",
        "  # get index with max value\n",
        "  predicted_index = np.argmax(prediction, axis=1)\n",
        "\n",
        "  print(\"Predicted Genre:\", int(predicted_index))\n"
      ]
    },
    {
      "cell_type": "code",
      "execution_count": 40,
      "metadata": {
        "id": "Anx5c-ZAVPDr"
      },
      "outputs": [],
      "source": [
        "# Audio files pre-processing\n",
        "def process_input(audio_file, track_duration):\n",
        "\n",
        "  SAMPLE_RATE = 22050\n",
        "  NUM_MFCC = 13\n",
        "  N_FTT=2048\n",
        "  HOP_LENGTH=512\n",
        "  TRACK_DURATION = track_duration # measured in seconds\n",
        "  SAMPLES_PER_TRACK = SAMPLE_RATE * TRACK_DURATION\n",
        "  NUM_SEGMENTS = 10\n",
        "\n",
        "  samples_per_segment = int(SAMPLES_PER_TRACK / NUM_SEGMENTS)\n",
        "  num_mfcc_vectors_per_segment = math.ceil(samples_per_segment / HOP_LENGTH)\n",
        "\n",
        "  signal, sample_rate = librosa.load(audio_file, sr=SAMPLE_RATE)\n",
        "  \n",
        "  for d in range(10):\n",
        "\n",
        "    # calculate start and finish sample for current segment\n",
        "    start = samples_per_segment * d\n",
        "    finish = start + samples_per_segment\n",
        "\n",
        "    # extract mfcc\n",
        "    mfcc = librosa.feature.mfcc(y=signal[start:finish], sr=sample_rate, n_mfcc=NUM_MFCC, n_fft=N_FTT, hop_length=HOP_LENGTH)\n",
        "    mfcc = mfcc.T\n",
        "\n",
        "    return mfcc"
      ]
    },
    {
      "cell_type": "code",
      "execution_count": 47,
      "metadata": {
        "id": "Kv68iVMTlFMi"
      },
      "outputs": [],
      "source": [
        "genre_dict = {0:\"blues\",1:\"classical\",2:\"country\",3:\"disco\",4:\"hiphop\",5:\"Jazz\",6:\"metal\",7:\"pop\",8:\"reggae\",9:\"rock\"}"
      ]
    },
    {
      "cell_type": "code",
      "execution_count": 53,
      "metadata": {
        "colab": {
          "base_uri": "https://localhost:8080/"
        },
        "id": "et20SKZGcdB3",
        "outputId": "c358cad8-6a4a-4dbe-b9c0-290b889f1fe8"
      },
      "outputs": [],
      "source": [
        "#new_input_mfcc = process_input(\"GTZAN/genres_original/jazz/jazz.00035.wav\", 30)\n",
        "#new_input_mfcc = process_input(\"GTZAN/genres_original/metal/metal.00035.wav\", 30)\n",
        "#new_input_mfcc = process_input(\"GTZAN/genres_original/pop/pop.00015.wav\", 30)\n",
        "#new_input_mfcc = process_input(\"GTZAN/genres_original/blues/blues.00035.wav\", 30)\n",
        "#new_input_mfcc = process_input(\"GTZAN/genres_original/disco/disco.00035.wav\", 30)\n",
        "#new_input_mfcc = process_input(\"GTZAN/genres_original/rock/rock.00035.wav\", 30)\n",
        "#new_input_mfcc = process_input(\"GTZAN/genres_original/country/country.00035.wav\", 30)\n",
        "#new_input_mfcc = process_input(\"GTZAN/genres_original/reggae/reggae.00035.wav\", 30)\n",
        "#new_input_mfcc = process_input(\"GTZAN/genres_original/hiphop/hiphop.00035.wav\", 30)\n",
        "#new_input_mfcc = process_input(\"GTZAN/genres_original/classical/classical.00035.wav\", 30)"
      ]
    },
    {
      "cell_type": "code",
      "execution_count": null,
      "metadata": {},
      "outputs": [],
      "source": [
        "new_input_mfcc = process_input(\"input2.wav\", 30)"
      ]
    },
    {
      "cell_type": "code",
      "execution_count": 54,
      "metadata": {
        "colab": {
          "base_uri": "https://localhost:8080/"
        },
        "id": "cgZiyLV6gjEk",
        "outputId": "6c97ab37-21a2-451c-e380-6f44e0ae2045"
      },
      "outputs": [
        {
          "data": {
            "text/plain": [
              "numpy.ndarray"
            ]
          },
          "execution_count": 54,
          "metadata": {},
          "output_type": "execute_result"
        }
      ],
      "source": [
        "type(new_input_mfcc)"
      ]
    },
    {
      "cell_type": "code",
      "execution_count": 55,
      "metadata": {
        "colab": {
          "base_uri": "https://localhost:8080/"
        },
        "id": "ydD7goZKfH6u",
        "outputId": "9c3e8606-fed2-4d12-e692-cc6c44add907"
      },
      "outputs": [
        {
          "data": {
            "text/plain": [
              "(130, 13)"
            ]
          },
          "execution_count": 55,
          "metadata": {},
          "output_type": "execute_result"
        }
      ],
      "source": [
        "new_input_mfcc.shape"
      ]
    },
    {
      "cell_type": "code",
      "execution_count": 56,
      "metadata": {
        "colab": {
          "base_uri": "https://localhost:8080/"
        },
        "id": "ZQPIZq_zgK7q",
        "outputId": "1feead26-cc97-4465-d0c6-cb7309efbf61"
      },
      "outputs": [
        {
          "data": {
            "text/plain": [
              "(1, 130, 13, 1)"
            ]
          },
          "execution_count": 56,
          "metadata": {},
          "output_type": "execute_result"
        }
      ],
      "source": [
        "X_to_predict = new_input_mfcc[np.newaxis, ..., np.newaxis]\n",
        "X_to_predict.shape"
      ]
    },
    {
      "cell_type": "code",
      "execution_count": 58,
      "metadata": {
        "colab": {
          "base_uri": "https://localhost:8080/"
        },
        "id": "9xLY_SWwdOpt",
        "outputId": "98a78524-3c75-424b-d0e1-453a4da3a254"
      },
      "outputs": [
        {
          "name": "stdout",
          "output_type": "stream",
          "text": [
            "1/1 [==============================] - 0s 32ms/step\n",
            "Input Recieved, Beginning Predictions...\n",
            "\n",
            "\n",
            "Predicted Genre: pop\n"
          ]
        }
      ],
      "source": [
        "prediction = model_cnn.predict(X_to_predict)\n",
        "print(\"Input Recieved, Beginning Predictions...\")\n",
        "# get index with max value\n",
        "predicted_index = np.argmax(prediction, axis=1)\n",
        "print(\"\\n\")\n",
        "print(\"Predicted Genre:\", genre_dict[int(predicted_index)])"
      ]
    }
  ],
  "metadata": {
    "colab": {
      "collapsed_sections": [],
      "name": "Music_Genre_Classification_2.ipynb",
      "provenance": []
    },
    "kernelspec": {
      "display_name": "Python 3",
      "name": "python3"
    },
    "language_info": {
      "codemirror_mode": {
        "name": "ipython",
        "version": 3
      },
      "file_extension": ".py",
      "mimetype": "text/x-python",
      "name": "python",
      "nbconvert_exporter": "python",
      "pygments_lexer": "ipython3",
      "version": "3.11.4"
    }
  },
  "nbformat": 4,
  "nbformat_minor": 0
}
